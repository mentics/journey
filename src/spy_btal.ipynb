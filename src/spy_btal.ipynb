{
 "cells": [
  {
   "cell_type": "code",
   "execution_count": 1,
   "metadata": {},
   "outputs": [
    {
     "ename": "ArgumentError",
     "evalue": "ArgumentError: Package HistData not found in current path.\n- Run `import Pkg; Pkg.add(\"HistData\")` to install the HistData package.",
     "output_type": "error",
     "traceback": [
      "ArgumentError: Package HistData not found in current path.\n",
      "- Run `import Pkg; Pkg.add(\"HistData\")` to install the HistData package.\n",
      "\n",
      "Stacktrace:\n",
      "  [1] macro expansion\n",
      "    @ Base .\\loading.jl:1766 [inlined]\n",
      "  [2] macro expansion\n",
      "    @ Base .\\lock.jl:267 [inlined]\n",
      "  [3] __require(into::Module, mod::Symbol)\n",
      "    @ Base .\\loading.jl:1747\n",
      "  [4] #invoke_in_world#3\n",
      "    @ Base .\\essentials.jl:921 [inlined]\n",
      "  [5] invoke_in_world\n",
      "    @ Base .\\essentials.jl:918 [inlined]\n",
      "  [6] require(into::Module, mod::Symbol)\n",
      "    @ Base .\\loading.jl:1740\n",
      "  [7] eval\n",
      "    @ .\\boot.jl:385 [inlined]\n",
      "  [8] include_string(mapexpr::typeof(REPL.softscope), mod::Module, code::String, filename::String)\n",
      "    @ Base .\\loading.jl:2070\n",
      "  [9] #invokelatest#2\n",
      "    @ .\\essentials.jl:887 [inlined]\n",
      " [10] invokelatest\n",
      "    @ .\\essentials.jl:884 [inlined]\n",
      " [11] (::VSCodeServer.var\"#208#209\"{VSCodeServer.NotebookRunCellArguments, String})()\n",
      "    @ VSCodeServer c:\\Users\\joel\\.vscode\\extensions\\julialang.language-julia-1.66.2\\scripts\\packages\\VSCodeServer\\src\\serve_notebook.jl:19\n",
      " [12] withpath(f::VSCodeServer.var\"#208#209\"{VSCodeServer.NotebookRunCellArguments, String}, path::String)\n",
      "    @ VSCodeServer c:\\Users\\joel\\.vscode\\extensions\\julialang.language-julia-1.66.2\\scripts\\packages\\VSCodeServer\\src\\repl.jl:274\n",
      " [13] notebook_runcell_request(conn::VSCodeServer.JSONRPC.JSONRPCEndpoint{Base.PipeEndpoint, Base.PipeEndpoint}, params::VSCodeServer.NotebookRunCellArguments)\n",
      "    @ VSCodeServer c:\\Users\\joel\\.vscode\\extensions\\julialang.language-julia-1.66.2\\scripts\\packages\\VSCodeServer\\src\\serve_notebook.jl:13\n",
      " [14] dispatch_msg(x::VSCodeServer.JSONRPC.JSONRPCEndpoint{Base.PipeEndpoint, Base.PipeEndpoint}, dispatcher::VSCodeServer.JSONRPC.MsgDispatcher, msg::Dict{String, Any})\n",
      "    @ VSCodeServer.JSONRPC c:\\Users\\joel\\.vscode\\extensions\\julialang.language-julia-1.66.2\\scripts\\packages\\JSONRPC\\src\\typed.jl:67\n",
      " [15] serve_notebook(pipename::String, outputchannel_logger::Base.CoreLogging.SimpleLogger; crashreporting_pipename::String)\n",
      "    @ VSCodeServer c:\\Users\\joel\\.vscode\\extensions\\julialang.language-julia-1.66.2\\scripts\\packages\\VSCodeServer\\src\\serve_notebook.jl:139\n",
      " [16] top-level scope\n",
      "    @ c:\\Users\\joel\\.vscode\\extensions\\julialang.language-julia-1.66.2\\scripts\\notebook\\notebook.jl:32"
     ]
    }
   ],
   "source": [
    "using DataFrames, Makie\n",
    "import HistData as hd\n",
    "using DrawUtil\n",
    "\n",
    "btal = DataFrame(reverse(hd.dataDaily(\"BTAL\")))\n",
    "spy = DataFrame(reverse(hd.dataDaily(btal.date[1], btal.date[end], \"SPY\")))\n",
    "spy = filter(spy -> spy.date in btal.date, spy)\n",
    "@assert btal.date == spy.date\n",
    "dates_for_axis = map(dates) do date; Dates.value(date - dates[1]) end\n",
    "\n",
    "fig = Figure()\n",
    "\n",
    "ax_left = Axis(fig[1, 1], xlabel = \"date\", ylabel = \"price\", title = \"SPY\", titlealign=:left, yaxisposition=:left)\n",
    "ax_right = Axis(fig[1, 1], xlabel = \"date\", ylabel = \"price\", title = \"BTAL\", titlealign=:right, yaxisposition=:right)\n",
    "linkxaxes!(ax_left, ax_right)\n",
    "\n",
    "lines!(ax_left, dates_for_axis, spy.close, color = :blue)\n",
    "lines!(ax_right, dates_for_axis, btal.close, color = :green)\n",
    "\n",
    "fig\n"
   ]
  },
  {
   "cell_type": "code",
   "execution_count": null,
   "metadata": {},
   "outputs": [],
   "source": [
    "spy_all = DataFrame(reverse(hd.dataDaily(\"SPY\")))\n",
    "\n",
    "import LsqFit\n",
    "linear_model(x, p) = p[1] .* x .+ p[2]\n",
    "INIT_PARAM = [1.0, 1.0]\n",
    "\n",
    "fit_len = 2520\n",
    "\n",
    "quantities = Dict{Symbol, Float64}()\n",
    "init_quantity = 100000.0\n",
    "quantities[:SPY] = init_quantity\n",
    "quantities[:BTAL] = init_quantity\n",
    "for ind in eachindex(btal.date)\n",
    "    date = btal.date[ind]\n",
    "    spy_ind = searchsortedfirst(spy_all.date, date)\n",
    "    # spy hist for up to prev day close\n",
    "    spy_hist = @view spy_all.close[(spy_ind - len):(spy_ind - 1)]\n",
    "\n",
    "    slope, offset = LsqFit.curve_fit(linear_model, eachindex(spy_hist), spy_hist, INIT_PARAM).param\n",
    "    fit_price = linear_model(spy_ind, [slope, offset])\n",
    "    target_quantity =\n",
    "    spy_price = spy_all.close[spy_ind]\n",
    "\n",
    "    if spy_price > fit_price\n",
    "\n",
    "\n",
    "end\n"
   ]
  }
 ],
 "metadata": {
  "kernelspec": {
   "display_name": "Julia 1.10.0",
   "language": "julia",
   "name": "julia-1.10"
  },
  "language_info": {
   "file_extension": ".jl",
   "mimetype": "application/julia",
   "name": "julia",
   "version": "1.10.0"
  }
 },
 "nbformat": 4,
 "nbformat_minor": 2
}
